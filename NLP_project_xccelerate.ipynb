{
 "cells": [
  {
   "cell_type": "markdown",
   "metadata": {},
   "source": [
    "# NLP project\n",
    "\n",
    "An project on natural language processing at Xccelerate HK. The task is to summarize a news article in four sentences.\n",
    "\n",
    "For the NLP corpus a script is written to scrape all articles from theonion.com. The target article from CNN is stemmed and have the stop words removed. And then it is vectorized by tfidf rules with the corpus scraped from the onion. The tfidf score is computed for each tokenized sentence, and the four with the highest scores are returned as the summary for the article.\n",
    "\n",
    "Finally the articles in the corpus are separated into 10 clusters by Kmeans. The cluster number will then be used as output labels to train various classifier models whose accuracy scores are compared."
   ]
  },
  {
   "cell_type": "code",
   "execution_count": 1,
   "metadata": {},
   "outputs": [],
   "source": [
    "import requests\n",
    "from bs4 import BeautifulSoup\n",
    "from nltk.corpus import wordnet, stopwords\n",
    "from nltk.wsd import lesk\n",
    "from nltk.stem.lancaster import LancasterStemmer\n",
    "from nltk.stem.snowball import SnowballStemmer\n",
    "from nltk import word_tokenize, sent_tokenize, \\\n",
    "    pos_tag, bigrams\n",
    "from string import punctuation\n",
    "from sklearn.feature_extraction import text\n",
    "from sklearn.cluster import KMeans\n",
    "from sklearn.decomposition import PCA\n",
    "from sklearn.neighbors import KNeighborsClassifier\n",
    "from sklearn.model_selection import train_test_split\n",
    "from sklearn.svm import SVC\n",
    "from sklearn.ensemble import AdaBoostClassifier, RandomForestClassifier\n",
    "import csv\n",
    "import numpy as np\n",
    "import pandas as pd\n",
    "import seaborn as sns\n",
    "import matplotlib.pyplot as plt\n",
    "import matplotlib"
   ]
  },
  {
   "cell_type": "code",
   "execution_count": 7,
   "metadata": {},
   "outputs": [],
   "source": [
    "PATH = 'data/'\n",
    "# nonascii punctuations that the articles may use\n",
    "PUNC_LIST = \".-—‘’“”\"  + punctuation\n",
    "STOP_WORDS = stopwords.words('english')\n",
    "STEMMER = SnowballStemmer('english')"
   ]
  },
  {
   "cell_type": "code",
   "execution_count": 3,
   "metadata": {},
   "outputs": [],
   "source": [
    "# create a list of stopwords that are stemmed by\n",
    "# the same stammer we use\n",
    "stemmed_stop_words = []\n",
    "for word in STOP_WORDS:\n",
    "    stem_stop = STEMMER.stem(word)\n",
    "    if stem_stop not in stemmed_stop_words:\n",
    "        stemmed_stop_words.append(stem_stop)"
   ]
  },
  {
   "cell_type": "code",
   "execution_count": 9,
   "metadata": {},
   "outputs": [],
   "source": [
    "# load the whole corpus\n",
    "corpus_path = PATH + 'articles.csv'\n",
    "cnn_path = PATH + 'CNN_article.txt'\n",
    "# https://edition.cnn.com/2018/12/04/politics/robert-mueller-donald-trump-michael-flynn-paul-manafort-russia-investigation/index.html\n",
    "corpus = []\n",
    "articles = []\n",
    "with open(corpus_path, 'r', encoding='utf-8') as articles_f:\n",
    "    reader = csv.DictReader(articles_f)\n",
    "    for row in reader:\n",
    "        if len(row['text']) > 30:\n",
    "            corpus.append(row['title'] + ' ' + row['text'])\n",
    "            articles.append(row)\n",
    "\n",
    "            \n",
    "# get the particular article to summarize\n",
    "with open(cnn_path, 'r', encoding='utf-8') as cnn_f:\n",
    "    cnn_article = cnn_f.read()\n",
    "\n",
    " "
   ]
  },
  {
   "cell_type": "code",
   "execution_count": 10,
   "metadata": {},
   "outputs": [],
   "source": [
    "def preprocess(text_list, stop_words, stemmer):\n",
    "    '''\n",
    "    Turns the list of strings into all lowercase, replaces all punctuations\n",
    "    with spaces, tokenizes, stems the words, removes any stopwords and then \n",
    "    rejoins the words.\n",
    "    \n",
    "    :param text_list: list of strings. List of text to be processed\n",
    "    :param stopwords: list of strings. List of stopwords. Note that the stopwords\n",
    "        have to be stemmed with the same stemmer\n",
    "    :param stemmer: stemmer object. an object with the method stem() that stems\n",
    "    a word\n",
    "    :returns: list of strings. Same structure as text_list, processed.\n",
    "    '''    \n",
    "    result = []\n",
    "    # change the dashes and hyphens into spaces as tokenizer cant seem to find them\n",
    "    replace_list = PUNC_LIST\n",
    "    remove_punc = str.maketrans(replace_list, ' ' * len(replace_list))\n",
    "    for text in text_list:\n",
    "        clean_text = text.lower().translate(remove_punc)\n",
    "        tokens = word_tokenize(clean_text)\n",
    "        # Stem each token and then rejoin them with spaces, and appened that\n",
    "        # to result\n",
    "        stemmed_tokens = []\n",
    "        for token in tokens:\n",
    "            stemmed_token = stemmer.stem(token)\n",
    "            if stemmed_token not in stop_words:\n",
    "                stemmed_tokens.append(stemmed_token)\n",
    "        result.append(' '.join(stemmed_token for stemmed_token in stemmed_tokens))\n",
    "    return result\n"
   ]
  },
  {
   "cell_type": "code",
   "execution_count": 11,
   "metadata": {},
   "outputs": [
    {
     "name": "stdout",
     "output_type": "stream",
     "text": [
      "43327\n"
     ]
    }
   ],
   "source": [
    "# \"train\" the vectorizer on the whole corpus, with bigrams\n",
    "vec_2gram = text.TfidfVectorizer(\n",
    "    strip_accents='unicode', \n",
    "    ngram_range=(1,2)\n",
    ")\n",
    "vec_2gram.fit(preprocess(corpus, STOP_WORDS, STEMMER))\n",
    "print(len(vec_2gram.get_feature_names()))"
   ]
  },
  {
   "cell_type": "code",
   "execution_count": 7,
   "metadata": {},
   "outputs": [],
   "source": [
    "# summarize one article\n",
    "def summarize(text, vectorizer, stop_words, stemmer):\n",
    "    '''\n",
    "    Returns the summary of an article.\n",
    "    :param text: string. Text to be summarized\n",
    "    :param vectorizer: vectorizer object that is already trained and has a \n",
    "    fit() method\n",
    "    :param stopwords: list of strings. List of stopwords. Note that the stopwords\n",
    "        have to be stemmed with the same stemmer\n",
    "    :param stemmer: stemmer object. an object with the method stem() that stems\n",
    "    a word\n",
    "    :returns: string. A four sentence summary of the text\n",
    "    '''\n",
    "    \n",
    "    # split the text into sentences\n",
    "    sentences = sent_tokenize(text)\n",
    "    if len(sentences) < 4:\n",
    "        print('Text is too short to summarize')\n",
    "        return None\n",
    "    p_sentences = preprocess(sentences, stop_words, stemmer)\n",
    "    # get the Tfidf score matrix\n",
    "    scores = vectorizer.transform(p_sentences)\n",
    "    sentence_strengths = []\n",
    "    # get the sum of scores for each sentence\n",
    "    for sentence_score in scores:\n",
    "        sentence_strengths.append(sentence_score.sum())\n",
    "    sentence_strengths = pd.Series(sentence_strengths)\n",
    "    # get the indices of the top 4 sentences in strength\n",
    "    indices = sentence_strengths.sort_values(ascending=False).head(4).index\n",
    "    \n",
    "    return '\\n\\n'.join(sentences[i] for i in indices.sort_values())\n",
    "\n"
   ]
  },
  {
   "cell_type": "markdown",
   "metadata": {},
   "source": [
    "### Summary of the article"
   ]
  },
  {
   "cell_type": "code",
   "execution_count": 10,
   "metadata": {},
   "outputs": [
    {
     "name": "stdout",
     "output_type": "stream",
     "text": [
      "Court filings focusing on Trump's first national security adviser, Michael Flynn, on Tuesday and his ex-campaign chairman Paul Manafort on Friday could offer tantalizing new details of Mueller's deep dive into the 2016 campaign.\n",
      "\n",
      "Stepping up the pace of his probe since the midterm elections, Mueller has moved in a direction that appears increasingly threatening to the President, including his crossing of Trump's red line by showing interest in his family real estate empire.\n",
      "\n",
      "Another branch of Mueller's investigation is also emerging -- his interest in alleged communications between Trump's informal political adviser Roger Stone and associate Jerome Corsi with WikiLeaks, the website that published emails stolen by Russian spies from the Clinton campaign's chairman and the Democratic National Committee.\n",
      "\n",
      "There was another example of suspicious timing in the Cohen indictment last week: Prosecutors revealed that Trump's fixer called off plans to visit Russia for the proposed Trump Tower Moscow deal on the exact day that first news reports emerged about Russia hacking the Democratic National Committee.\n"
     ]
    }
   ],
   "source": [
    "print(summarize(cnn_article, vec_2gram, STOP_WORDS, STEMMER))"
   ]
  },
  {
   "cell_type": "markdown",
   "metadata": {},
   "source": [
    "### Extra excercise - clustering the articles in the corpus"
   ]
  },
  {
   "cell_type": "code",
   "execution_count": 11,
   "metadata": {},
   "outputs": [
    {
     "data": {
      "text/plain": [
       "KMeans(algorithm='auto', copy_x=True, init='k-means++', max_iter=300,\n",
       "    n_clusters=10, n_init=10, n_jobs=None, precompute_distances='auto',\n",
       "    random_state=42, tol=0.0001, verbose=0)"
      ]
     },
     "execution_count": 11,
     "metadata": {},
     "output_type": "execute_result"
    }
   ],
   "source": [
    "# Cluster and classify articles\n",
    "articles_tfidf_2gram = vec_2gram.transform(preprocess(corpus, STOP_WORDS, STEMMER))\n",
    "kmeans = KMeans(n_clusters=10, random_state=42)\n",
    "kmeans.fit(articles_tfidf_2gram)"
   ]
  },
  {
   "cell_type": "code",
   "execution_count": 12,
   "metadata": {},
   "outputs": [],
   "source": [
    "df = pd.DataFrame(articles_tfidf_2gram.toarray())\n",
    "df['cluster'] = kmeans.predict(df)\n",
    "df_x = df.drop('cluster', axis=1)"
   ]
  },
  {
   "cell_type": "code",
   "execution_count": 13,
   "metadata": {},
   "outputs": [],
   "source": [
    "for i in range(len(df)):\n",
    "    articles[i]['cluster'] = df.cluster.iloc[i]\n",
    "articles_df = pd.DataFrame(articles)"
   ]
  },
  {
   "cell_type": "code",
   "execution_count": 154,
   "metadata": {
    "scrolled": false
   },
   "outputs": [
    {
     "data": {
      "image/png": "[encoded data removed]",
      "text/plain": [
       "<Figure size 936x576 with 1 Axes>"
      ]
     },
     "metadata": {},
     "output_type": "display_data"
    }
   ],
   "source": [
    "# a little EDA\n",
    "pd.options.display.max_rows = 20\n",
    "%matplotlib inline\n",
    "matplotlib.rcParams['figure.figsize'] = (13, 8) #deault figure size\n",
    "plt.style.use('ggplot') #make plot prettier\n",
    "\n",
    "# mean scores across features of each article\n",
    "plt.bar(x=range(452), height=df_x.mean(axis=1).sort_values())\n",
    "plt.show()"
   ]
  },
  {
   "cell_type": "code",
   "execution_count": 132,
   "metadata": {},
   "outputs": [
    {
     "data": {
      "image/png": "[encoded data removed]",
      "text/plain": [
       "<Figure size 936x576 with 1 Axes>"
      ]
     },
     "metadata": {},
     "output_type": "display_data"
    }
   ],
   "source": [
    "# mean scores across articles of each feature\n",
    "plt.bar(x=range(len(df_x.columns)), height=df_x.mean(axis=0).sort_values())\n",
    "plt.show()"
   ]
  },
  {
   "cell_type": "code",
   "execution_count": 145,
   "metadata": {
    "scrolled": false
   },
   "outputs": [
    {
     "data": {
      "image/png": "[encoded data removed]",
      "text/plain": [
       "<Figure size 936x576 with 1 Axes>"
      ]
     },
     "metadata": {},
     "output_type": "display_data"
    }
   ],
   "source": [
    "# proportion of features with non-zero values across articles\n",
    "plt.bar(x=range(len(df)), height=(df_x != 0).mean(axis=1).sort_values())\n",
    "plt.show()"
   ]
  },
  {
   "cell_type": "code",
   "execution_count": 146,
   "metadata": {},
   "outputs": [
    {
     "data": {
      "image/png": "[encoded data removed]",
      "text/plain": [
       "<Figure size 936x576 with 1 Axes>"
      ]
     },
     "metadata": {},
     "output_type": "display_data"
    }
   ],
   "source": [
    "# proportion of non-zero feature scores among all articles of each feature\n",
    "plt.bar(x=range(len(df_x.columns)), height=(df_x != 0).mean(axis=0).sort_values())\n",
    "plt.show()"
   ]
  },
  {
   "cell_type": "code",
   "execution_count": 104,
   "metadata": {
    "scrolled": false
   },
   "outputs": [
    {
     "name": "stdout",
     "output_type": "stream",
     "text": [
      "Number of PCs: 200\n",
      "Total explained variance: 0.5091124623422548\n",
      "------------------------------\n",
      "        PC1       PC2       PC3       PC4       PC5       PC6       PC7  \\\n",
      "0 -0.004967  0.010534 -0.030667  0.046978  0.013039  0.024608 -0.001111   \n",
      "1 -0.031828 -0.007884 -0.042194  0.036015  0.000812  0.012932  0.014745   \n",
      "2 -0.039543 -0.039782 -0.011935 -0.018009 -0.050450 -0.033300 -0.009658   \n",
      "3 -0.022009  0.031255 -0.032650  0.015366  0.025475  0.035626 -0.014741   \n",
      "4 -0.011261  0.016448 -0.026982  0.021357  0.031655  0.019225 -0.022217   \n",
      "\n",
      "        PC8       PC9      PC10    ...        PC191     PC192     PC193  \\\n",
      "0  0.002723  0.016133 -0.026313    ...     0.074081  0.061612  0.027121   \n",
      "1  0.061240 -0.023964 -0.008834    ...     0.026357 -0.027281 -0.048884   \n",
      "2  0.035158 -0.012963 -0.001216    ...     0.032604  0.008352  0.019170   \n",
      "3 -0.116771  0.033952 -0.078824    ...    -0.072745  0.053041  0.067195   \n",
      "4 -0.054032  0.015464 -0.058584    ...     0.005098  0.017600  0.010965   \n",
      "\n",
      "      PC194     PC195     PC196     PC197     PC198     PC199     PC200  \n",
      "0  0.038932 -0.070669 -0.012402 -0.016047 -0.058145 -0.027173  0.088966  \n",
      "1 -0.098184 -0.016958  0.013010  0.055836 -0.031390  0.026043  0.000883  \n",
      "2 -0.013461 -0.002828  0.053647  0.012080 -0.077843  0.048491 -0.023803  \n",
      "3  0.018787  0.077493 -0.009924  0.006273  0.008712 -0.000519  0.036889  \n",
      "4 -0.034106  0.003229 -0.054244  0.026962 -0.026929 -0.060017  0.027453  \n",
      "\n",
      "[5 rows x 200 columns]\n"
     ]
    },
    {
     "data": {
      "image/png": "[encoded data removed]",
      "text/plain": [
       "<Figure size 936x576 with 1 Axes>"
      ]
     },
     "metadata": {},
     "output_type": "display_data"
    },
    {
     "name": "stdout",
     "output_type": "stream",
     "text": [
      "PCA completed\n"
     ]
    },
    {
     "data": {
      "text/plain": [
       "(PCA(copy=True, iterated_power='auto', n_components=200, random_state=None,\n",
       "   svd_solver='auto', tol=0.0, whiten=False),\n",
       "           PC1       PC2       PC3       PC4       PC5       PC6       PC7  \\\n",
       " 0   -0.004967  0.010534 -0.030667  0.046978  0.013039  0.024608 -0.001111   \n",
       " 1   -0.031828 -0.007884 -0.042194  0.036015  0.000812  0.012932  0.014745   \n",
       " 2   -0.039543 -0.039782 -0.011935 -0.018009 -0.050450 -0.033300 -0.009658   \n",
       " 3   -0.022009  0.031255 -0.032650  0.015366  0.025475  0.035626 -0.014741   \n",
       " 4   -0.011261  0.016448 -0.026982  0.021357  0.031655  0.019225 -0.022217   \n",
       " 5   -0.027836 -0.016067 -0.023088  0.018268 -0.027410 -0.023961 -0.020408   \n",
       " 6   -0.030186 -0.031899 -0.034619  0.022845 -0.089790 -0.071273 -0.001354   \n",
       " 7    0.053947  0.117317  0.094021 -0.054290  0.044389  0.021007 -0.029206   \n",
       " 8   -0.024432 -0.037402 -0.034630  0.006430 -0.100708 -0.019851  0.006794   \n",
       " 9   -0.006263  0.051222 -0.015002  0.048093  0.020830  0.063840 -0.055430   \n",
       " 10  -0.027804 -0.015352 -0.027524  0.009473 -0.031403 -0.008251  0.001514   \n",
       " 11  -0.135295 -0.172556  0.328797  0.087632 -0.017513  0.040691 -0.009229   \n",
       " 12  -0.029672 -0.015140 -0.040972  0.029146 -0.048314 -0.042212 -0.003816   \n",
       " 13  -0.010455  0.038977 -0.030170  0.041623  0.043010  0.046234 -0.046677   \n",
       " 14  -0.007475  0.046005  0.058482 -0.112704  0.204558 -0.025565  0.013126   \n",
       " 15  -0.040823  0.001101 -0.034341  0.016454  0.036519  0.021493 -0.021448   \n",
       " 16  -0.009715  0.025959 -0.024660  0.056105 -0.022068  0.066313 -0.054690   \n",
       " 17   0.032382  0.010671 -0.033052  0.065890  0.064360  0.029510 -0.022362   \n",
       " 18   0.010694 -0.030623  0.039465 -0.166480  0.044457 -0.084494  0.050625   \n",
       " 19   0.028184  0.015968  0.133636 -0.018325 -0.004865  0.028738 -0.025469   \n",
       " 20  -0.026731 -0.048356 -0.023895 -0.026598 -0.066466 -0.022793  0.026756   \n",
       " 21  -0.021019  0.002432 -0.023147  0.018566  0.035323  0.004849 -0.017443   \n",
       " 22  -0.038807 -0.000273 -0.026118 -0.008240 -0.013380  0.037387 -0.016428   \n",
       " 23  -0.028785 -0.007492 -0.016194  0.013821 -0.008175  0.011500 -0.021472   \n",
       " 24  -0.036526 -0.014486 -0.019651  0.005024 -0.044478 -0.005323 -0.006496   \n",
       " 25  -0.027655 -0.030347 -0.037633  0.006476 -0.063922 -0.006027 -0.013324   \n",
       " 26   0.027670  0.025853  0.051896 -0.117194  0.087303 -0.067018  0.057772   \n",
       " 27  -0.020601 -0.035226 -0.027288 -0.116991 -0.027831 -0.100096  0.015221   \n",
       " 28  -0.032820  0.004210 -0.020634  0.014219 -0.007706 -0.012043 -0.011195   \n",
       " 29  -0.049715 -0.006159 -0.035120  0.031810 -0.021279  0.034225  0.008563   \n",
       " ..        ...       ...       ...       ...       ...       ...       ...   \n",
       " 422 -0.039762  0.001581 -0.043649  0.032312  0.012286  0.016724 -0.019580   \n",
       " 423  0.365220 -0.286140 -0.029949  0.068949  0.016278  0.031646  0.009377   \n",
       " 424  0.286503 -0.211489  0.003368 -0.057541  0.070755 -0.049411  0.051156   \n",
       " 425 -0.019085 -0.042726 -0.028700 -0.041889 -0.080444 -0.027116  0.004815   \n",
       " 426 -0.019127  0.025257 -0.025065  0.031964  0.044334  0.010732  0.016462   \n",
       " 427  0.047796 -0.019274  0.059311 -0.137488  0.190968 -0.076569  0.079035   \n",
       " 428 -0.002789 -0.006184 -0.018792  0.006675 -0.005346 -0.009099 -0.001746   \n",
       " 429 -0.024989  0.026149 -0.032216  0.019718  0.061530 -0.001734 -0.035806   \n",
       " 430 -0.026265 -0.036145 -0.049858 -0.009975 -0.084012 -0.040627 -0.022658   \n",
       " 431 -0.037511 -0.000090 -0.046299  0.021135  0.027582  0.023547 -0.022026   \n",
       " 432 -0.032514 -0.005956 -0.030451  0.008387 -0.029556  0.002235 -0.010943   \n",
       " 433 -0.022444  0.010959 -0.006272 -0.042790  0.092636 -0.026968  0.023766   \n",
       " 434  0.219840 -0.134027 -0.004460  0.053762 -0.011069  0.027426 -0.017141   \n",
       " 435  0.012499  0.004608 -0.025085  0.046562  0.048661 -0.000732 -0.025520   \n",
       " 436 -0.045795  0.000507 -0.034231  0.007347  0.021657  0.028796 -0.006722   \n",
       " 437  0.012643  0.063431  0.001816  0.051566  0.028638 -0.013517  0.023492   \n",
       " 438 -0.010113 -0.019721 -0.029766  0.015600 -0.025183 -0.011978 -0.011191   \n",
       " 439  0.199992 -0.164223 -0.029084 -0.008157 -0.010169 -0.016686  0.031291   \n",
       " 440 -0.008843 -0.034320  0.024114 -0.154233  0.073002 -0.059683  0.095761   \n",
       " 441 -0.015958  0.006055 -0.019956  0.004264  0.023638 -0.000966 -0.020341   \n",
       " 442 -0.010483  0.031528 -0.007100  0.064244  0.034030  0.045477  0.016534   \n",
       " 443  0.010400  0.016047 -0.000609 -0.009349  0.009319 -0.022374 -0.027069   \n",
       " 444 -0.046471 -0.035303 -0.053614 -0.007366 -0.055835 -0.037534 -0.014356   \n",
       " 445 -0.022089 -0.000761 -0.042223  0.019068 -0.011437  0.018655 -0.002229   \n",
       " 446 -0.032996 -0.005226 -0.027658  0.023138 -0.026177  0.018392 -0.019726   \n",
       " 447  0.032119  0.125381  0.019347  0.207352  0.026690 -0.208892  0.086375   \n",
       " 448 -0.002912  0.014243 -0.005634 -0.076926  0.042423 -0.063172  0.000083   \n",
       " 449  0.246910 -0.196468 -0.059529  0.055713 -0.059224  0.026428  0.006182   \n",
       " 450 -0.032556 -0.008796 -0.040323 -0.005699 -0.035148 -0.037864 -0.000069   \n",
       " 451 -0.029026 -0.022634 -0.043957  0.002606 -0.045766 -0.005145 -0.023629   \n",
       " \n",
       "           PC8       PC9      PC10    ...        PC191     PC192     PC193  \\\n",
       " 0    0.002723  0.016133 -0.026313    ...     0.074081  0.061612  0.027121   \n",
       " 1    0.061240 -0.023964 -0.008834    ...     0.026357 -0.027281 -0.048884   \n",
       " 2    0.035158 -0.012963 -0.001216    ...     0.032604  0.008352  0.019170   \n",
       " 3   -0.116771  0.033952 -0.078824    ...    -0.072745  0.053041  0.067195   \n",
       " 4   -0.054032  0.015464 -0.058584    ...     0.005098  0.017600  0.010965   \n",
       " 5    0.007907 -0.024790  0.010137    ...     0.020001 -0.044909 -0.056331   \n",
       " 6    0.083211 -0.058013  0.012599    ...     0.070856  0.093651  0.081999   \n",
       " 7   -0.017747 -0.042735 -0.037301    ...    -0.010300  0.019689  0.053911   \n",
       " 8    0.041911 -0.028590 -0.005653    ...     0.083748 -0.008816 -0.030859   \n",
       " 9   -0.065417  0.012319 -0.100505    ...    -0.079166  0.053388 -0.012676   \n",
       " 10   0.023497 -0.007283 -0.023863    ...     0.033427  0.036129 -0.031636   \n",
       " 11  -0.003106  0.028181 -0.011078    ...     0.080112  0.057699  0.049886   \n",
       " 12   0.037535 -0.012256  0.008763    ...    -0.020669  0.056980  0.003681   \n",
       " 13  -0.121653  0.036075 -0.121924    ...     0.008452 -0.027366  0.021066   \n",
       " 14  -0.031858 -0.082981 -0.095684    ...     0.018293  0.037106 -0.033816   \n",
       " 15  -0.041363 -0.008283 -0.063362    ...    -0.048908 -0.012446  0.039277   \n",
       " 16  -0.055372 -0.008650 -0.086805    ...    -0.005957 -0.039939 -0.024230   \n",
       " 17  -0.090583  0.026687 -0.084962    ...     0.048629  0.012404  0.068492   \n",
       " 18   0.051109 -0.044898 -0.002680    ...    -0.064746  0.055157  0.045227   \n",
       " 19   0.001067  0.023690  0.002977    ...    -0.024804  0.021293  0.119181   \n",
       " 20   0.039292 -0.018153  0.009228    ...    -0.003231 -0.030092  0.004676   \n",
       " 21  -0.029126  0.013099 -0.014249    ...     0.024269 -0.002610  0.087656   \n",
       " 22  -0.054291  0.020215  0.065184    ...     0.060169 -0.021935 -0.053427   \n",
       " 23  -0.020336 -0.011976 -0.034431    ...    -0.065599  0.069890 -0.011734   \n",
       " 24   0.014296 -0.021297 -0.009369    ...    -0.020414 -0.035139  0.036131   \n",
       " 25   0.043191 -0.011108 -0.014787    ...    -0.009496  0.030651  0.002833   \n",
       " 26   0.081404 -0.088782 -0.003842    ...    -0.061157  0.025386 -0.093173   \n",
       " 27   0.067359 -0.077577  0.037038    ...     0.008792  0.029704  0.041097   \n",
       " 28  -0.013522  0.013957  0.042048    ...     0.009413  0.011948 -0.078558   \n",
       " 29   0.020380 -0.023247 -0.016472    ...    -0.059256 -0.004428  0.038877   \n",
       " ..        ...       ...       ...    ...          ...       ...       ...   \n",
       " 422 -0.035791 -0.015491 -0.091078    ...     0.040422  0.062492  0.030805   \n",
       " 423 -0.036008 -0.088543  0.076933    ...    -0.027743  0.015062 -0.033629   \n",
       " 424  0.012160 -0.085906  0.036396    ...    -0.015663 -0.022048  0.087592   \n",
       " 425  0.066105 -0.040952  0.018305    ...     0.037494 -0.032079 -0.005669   \n",
       " 426 -0.037546  0.015967 -0.055823    ...    -0.032412 -0.023537  0.155030   \n",
       " 427 -0.054521 -0.012452 -0.019639    ...    -0.058224 -0.036181 -0.048020   \n",
       " 428 -0.000216 -0.014709 -0.012309    ...    -0.030286 -0.073558  0.019721   \n",
       " 429 -0.062060  0.036869  0.008340    ...    -0.043042 -0.090459 -0.025816   \n",
       " 430  0.064131 -0.029405 -0.003170    ...     0.022973  0.066160  0.028730   \n",
       " 431  0.025046 -0.006426 -0.004268    ...     0.001473 -0.042675  0.025360   \n",
       " 432 -0.020742 -0.012005 -0.020707    ...     0.072554  0.041589  0.018323   \n",
       " 433 -0.051388  0.032572  0.020399    ...     0.028053  0.006353  0.011049   \n",
       " 434 -0.013037  0.007332  0.004888    ...    -0.020166  0.011143 -0.006852   \n",
       " 435 -0.046168  0.010888 -0.038616    ...     0.080898 -0.108833  0.128950   \n",
       " 436  0.014547  0.020650  0.144533    ...     0.029188 -0.009843  0.041351   \n",
       " 437 -0.040962  0.013362 -0.038288    ...     0.067057  0.037322  0.042713   \n",
       " 438  0.011873 -0.020497 -0.028559    ...    -0.036368  0.020354 -0.049690   \n",
       " 439  0.011451 -0.081685  0.023269    ...     0.072335 -0.048158  0.050186   \n",
       " 440  0.005868 -0.017604  0.044018    ...    -0.029141 -0.037279  0.043015   \n",
       " 441 -0.031885  0.012452 -0.037555    ...     0.016959  0.035354  0.028586   \n",
       " 442  0.038480 -0.015623 -0.008230    ...    -0.057209  0.016233 -0.006727   \n",
       " 443  0.012253  0.026474  0.052411    ...    -0.015977  0.041746  0.004185   \n",
       " 444  0.064615 -0.030660  0.008381    ...    -0.057430 -0.001100  0.022806   \n",
       " 445  0.003374  0.011919 -0.007071    ...    -0.040217  0.004038 -0.031713   \n",
       " 446  0.017870 -0.013665 -0.014517    ...    -0.034072 -0.025827  0.010414   \n",
       " 447 -0.018036 -0.007774  0.031921    ...    -0.059349  0.125637  0.024902   \n",
       " 448  0.010483 -0.064091 -0.005817    ...    -0.008359 -0.011492 -0.013546   \n",
       " 449 -0.010465 -0.043744  0.042449    ...    -0.035851 -0.010532 -0.038309   \n",
       " 450  0.011841 -0.018663 -0.018111    ...     0.056877  0.015339 -0.079770   \n",
       " 451  0.007906 -0.006550  0.027780    ...    -0.037138 -0.062110  0.048271   \n",
       " \n",
       "         PC194     PC195     PC196     PC197     PC198     PC199     PC200  \n",
       " 0    0.038932 -0.070669 -0.012402 -0.016047 -0.058145 -0.027173  0.088966  \n",
       " 1   -0.098184 -0.016958  0.013010  0.055836 -0.031390  0.026043  0.000883  \n",
       " 2   -0.013461 -0.002828  0.053647  0.012080 -0.077843  0.048491 -0.023803  \n",
       " 3    0.018787  0.077493 -0.009924  0.006273  0.008712 -0.000519  0.036889  \n",
       " 4   -0.034106  0.003229 -0.054244  0.026962 -0.026929 -0.060017  0.027453  \n",
       " 5   -0.032114 -0.079883 -0.024520 -0.025430 -0.033984  0.006282 -0.067717  \n",
       " 6    0.009164 -0.003633  0.082721 -0.014989 -0.033079  0.006153  0.026934  \n",
       " 7   -0.043301 -0.004617 -0.043332  0.024622 -0.006650 -0.028234 -0.016846  \n",
       " 8   -0.007677  0.004739 -0.019455 -0.075346 -0.018938  0.061988 -0.019352  \n",
       " 9   -0.033794  0.011388  0.012585  0.048298  0.065315 -0.039362 -0.059673  \n",
       " 10   0.040843  0.014116 -0.034064 -0.053259 -0.017643 -0.005224  0.036919  \n",
       " 11  -0.008723  0.041399  0.052759  0.039954  0.006079  0.055925  0.007956  \n",
       " 12  -0.014380 -0.017441  0.022057 -0.018613  0.002108 -0.056930 -0.044494  \n",
       " 13  -0.045951  0.038306 -0.030944 -0.060355 -0.075694 -0.001128  0.020697  \n",
       " 14  -0.007785 -0.018228 -0.003935  0.016079 -0.033749  0.050155  0.051741  \n",
       " 15   0.014684  0.001886 -0.044334  0.006180  0.109814  0.074904  0.022658  \n",
       " 16   0.009735 -0.024720 -0.029379  0.042594 -0.037891 -0.037590 -0.013346  \n",
       " 17   0.073925  0.004702  0.040634 -0.030264  0.024175  0.051534 -0.032224  \n",
       " 18   0.071359  0.036123  0.049955 -0.039106 -0.015990 -0.104625 -0.069871  \n",
       " 19  -0.065580  0.024063 -0.059309 -0.064455  0.065976  0.002076 -0.055759  \n",
       " 20   0.086004 -0.033538  0.010121 -0.052768 -0.035899  0.020322 -0.005240  \n",
       " 21   0.043958 -0.066099 -0.058576 -0.009231 -0.032113  0.008942  0.017271  \n",
       " 22  -0.061468 -0.010841  0.014230  0.036973 -0.032555  0.023290 -0.001002  \n",
       " 23  -0.056609  0.049357 -0.043241 -0.016558  0.056367 -0.017256  0.058298  \n",
       " 24  -0.040921 -0.019266  0.051767  0.016297  0.019393  0.123186  0.007134  \n",
       " 25   0.008976  0.054787  0.017404 -0.030077  0.018217 -0.009989 -0.044062  \n",
       " 26   0.054187  0.013887  0.006085 -0.007822 -0.025672  0.028961 -0.019886  \n",
       " 27  -0.005385 -0.025420 -0.071268 -0.029341  0.018226  0.070017  0.072504  \n",
       " 28   0.019521 -0.058030 -0.093659  0.018654 -0.070826  0.101046 -0.029757  \n",
       " 29  -0.012762 -0.072320 -0.071952 -0.077612  0.046104 -0.059709  0.029034  \n",
       " ..        ...       ...       ...       ...       ...       ...       ...  \n",
       " 422  0.046534  0.059225  0.062910  0.066557 -0.014405 -0.059563  0.007275  \n",
       " 423  0.007080 -0.039572 -0.059360 -0.005718 -0.002812 -0.015849 -0.015989  \n",
       " 424 -0.024727  0.006472 -0.037978 -0.003922  0.014252 -0.025232  0.004714  \n",
       " 425 -0.009970 -0.028780 -0.023422 -0.029934 -0.070569  0.022032 -0.019467  \n",
       " 426  0.017822  0.052499  0.029537  0.141336 -0.052949  0.031947  0.025879  \n",
       " 427 -0.023101 -0.026839  0.012863 -0.068051  0.023655  0.032779  0.027530  \n",
       " 428 -0.040448 -0.005415 -0.016598 -0.045868 -0.030174 -0.033280  0.038194  \n",
       " 429  0.026854 -0.005452  0.026676  0.020184 -0.049871  0.041695 -0.000300  \n",
       " 430  0.108305  0.057094 -0.014780 -0.061362  0.036591  0.004832  0.035844  \n",
       " 431  0.002281  0.076879  0.008539 -0.085670  0.030708  0.083660 -0.061780  \n",
       " 432 -0.084516  0.091914 -0.020674 -0.088037  0.026060  0.007187  0.000291  \n",
       " 433  0.058474  0.015562 -0.036597  0.002872 -0.043572 -0.039644  0.014329  \n",
       " 434 -0.005011 -0.025316 -0.014594  0.016755 -0.015951 -0.016150  0.062321  \n",
       " 435 -0.037775 -0.026955 -0.019416 -0.050529 -0.040995  0.043017 -0.050603  \n",
       " 436 -0.026342 -0.066212  0.000311 -0.053114 -0.092673 -0.007037 -0.043726  \n",
       " 437  0.039133 -0.002037 -0.002304 -0.032341  0.023965  0.000911 -0.007912  \n",
       " 438  0.008819  0.044612  0.062124 -0.108250  0.025025 -0.022766 -0.024532  \n",
       " 439  0.005357  0.069327  0.078288 -0.037517  0.015385 -0.042815  0.077638  \n",
       " 440 -0.037175  0.000164  0.009634  0.027223  0.009030 -0.091066 -0.060968  \n",
       " 441  0.028071  0.052294 -0.113535 -0.065836 -0.065350  0.029559 -0.010744  \n",
       " 442 -0.060095  0.024812 -0.006982 -0.043668 -0.006245  0.008831  0.096158  \n",
       " 443 -0.018037  0.072638  0.016750 -0.002349  0.005042  0.012415  0.112732  \n",
       " 444 -0.041848  0.028683 -0.030726 -0.037616 -0.008839 -0.001844  0.002059  \n",
       " 445  0.036959  0.046430  0.022714  0.019175  0.006524  0.036919 -0.057667  \n",
       " 446  0.138647 -0.030479 -0.021571  0.061392  0.074592  0.018055  0.020863  \n",
       " 447  0.047739 -0.015273 -0.001606 -0.089354  0.016948  0.052339 -0.047884  \n",
       " 448 -0.020604 -0.010900 -0.027858 -0.022250 -0.031542 -0.034808  0.049364  \n",
       " 449 -0.011653  0.033015  0.018702 -0.003292  0.074271  0.021203 -0.089073  \n",
       " 450 -0.027251 -0.085232  0.040144  0.027493 -0.049546  0.000060 -0.040664  \n",
       " 451  0.041626  0.046681  0.026327 -0.093761 -0.057913 -0.091310  0.057457  \n",
       " \n",
       " [452 rows x 200 columns])"
      ]
     },
     "execution_count": 104,
     "metadata": {},
     "output_type": "execute_result"
    },
    {
     "data": {
      "text/plain": [
       "<Figure size 936x576 with 0 Axes>"
      ]
     },
     "metadata": {},
     "output_type": "display_data"
    }
   ],
   "source": [
    "def do_PCA(n, features_data, random_state=None, print_result=False):\n",
    "    '''\n",
    "    Takes an array of feature_data and performs a PCA.\n",
    "    \n",
    "    Parameters:\n",
    "    ----------\n",
    "    n: int\n",
    "        number of components to keep in the PCA. Unlike the standard PCA\n",
    "        object, cannont take None or decimals.\n",
    "        \n",
    "    features_data: np.array\n",
    "        numpy array of feature data. shape has to match the row number \n",
    "        of target data.\n",
    "        \n",
    "    random_state: int, optional\n",
    "        random seed for both the RandomForestRegressor and the cross\n",
    "        validation splits\n",
    "        \n",
    "    print_result: bool, defaults to False\n",
    "        if True, print the details of the PCA results\n",
    "    \n",
    "    Returns:\n",
    "    ----------\n",
    "    PCA object\n",
    "        object containing the info of the transformation.\n",
    "    \n",
    "    DataFrame object\n",
    "        data after the PCA transformation, with nice column names\n",
    "    '''\n",
    "      \n",
    "      \n",
    "    # PCA\n",
    "    pc_list = [\"PC\"+str(i) for i in range(1,n+1)]\n",
    "    pca = PCA(n, random_state=random_state)\n",
    "    x_pca = pca.fit_transform(features_data)\n",
    "    df_pca = pd.DataFrame(x_pca, columns=pc_list)\n",
    "    \n",
    "    # plotting explained variance\n",
    "    df_explained_variance = pd.DataFrame({\n",
    "        \"pc\": pc_list, \n",
    "        \"explained_variance\": pca.explained_variance_ratio_\n",
    "    })\n",
    "\n",
    "    print(\"Number of PCs:\", n)\n",
    "    print(\"Total explained variance:\", sum(pca.explained_variance_ratio_))\n",
    "\n",
    "    # option to print results\n",
    "    if print_result:\n",
    "        # checking results\n",
    "        print(\"-\"*30)\n",
    "        print(df_pca.head())\n",
    "        barplot = sns.barplot(\n",
    "            x=\"pc\", \n",
    "            y=\"explained_variance\",\n",
    "            data=df_explained_variance\n",
    "        )\n",
    "        plt.show()\n",
    "        plt.clf()\n",
    "    \n",
    "    print (\"PCA completed\")\n",
    "    return pca, df_pca\n",
    "\n",
    "\n",
    "do_PCA(200, df.drop('cluster', axis=1), print_result=False)"
   ]
  },
  {
   "cell_type": "markdown",
   "metadata": {},
   "source": [
    "Not surprising to see a very sparse matrix. \n",
    "PCA explained variance curve is rather gradual and it doesn't seem like PCA will help much"
   ]
  },
  {
   "cell_type": "code",
   "execution_count": 29,
   "metadata": {},
   "outputs": [
    {
     "name": "stdout",
     "output_type": "stream",
     "text": [
      "\n",
      "\n",
      "Cluster 0:\n",
      "News in Brief      21\n",
      "American Voices    15\n",
      "Infographic         1\n",
      "Name: category, dtype: int64\n",
      "\n",
      "\n",
      "Cluster 1:\n",
      "News in Brief           64\n",
      "American Voices          9\n",
      "Sports News In Brief     2\n",
      "News                     1\n",
      "Horoscopes               1\n",
      "Name: category, dtype: int64\n",
      "\n",
      "\n",
      "Cluster 2:\n",
      "News in Brief           47\n",
      "American Voices         11\n",
      "Infographic              7\n",
      "Commentary               1\n",
      "Horoscopes               1\n",
      "Sports News In Brief     1\n",
      "Name: category, dtype: int64\n",
      "\n",
      "\n",
      "Cluster 3:\n",
      "American Voices    17\n",
      "News in Brief      15\n",
      "Horoscopes          6\n",
      "Infographic         4\n",
      "Lifestyle           1\n",
      "Name: category, dtype: int64\n",
      "\n",
      "\n",
      "Cluster 4:\n",
      "News in Brief      21\n",
      "American Voices     8\n",
      "Infographic         1\n",
      "Name: category, dtype: int64\n",
      "\n",
      "\n",
      "Cluster 5:\n",
      "News in Brief           36\n",
      "American Voices         11\n",
      "Sports News In Brief     4\n",
      "Infographic              2\n",
      "News                     1\n",
      "Horoscopes               1\n",
      "                         1\n",
      "Name: category, dtype: int64\n",
      "\n",
      "\n",
      "Cluster 6:\n",
      "News in Brief      28\n",
      "American Voices     7\n",
      "News                4\n",
      "                    1\n",
      "Name: category, dtype: int64\n",
      "\n",
      "\n",
      "Cluster 7:\n",
      "News in Brief           30\n",
      "American Voices          3\n",
      "Sports News In Brief     2\n",
      "News                     1\n",
      "Infographic              1\n",
      "Commentary               1\n",
      "Name: category, dtype: int64\n",
      "\n",
      "\n",
      "Cluster 8:\n",
      "News in Brief      24\n",
      "American Voices     9\n",
      "Infographic         1\n",
      "Commentary          1\n",
      "Name: category, dtype: int64\n",
      "\n",
      "\n",
      "Cluster 9:\n",
      "News in Brief           11\n",
      "American Voices          6\n",
      "News                     3\n",
      "                         3\n",
      "Infographic              2\n",
      "Sports News In Brief     2\n",
      "Horoscopes               1\n",
      "Name: category, dtype: int64\n"
     ]
    }
   ],
   "source": [
    "for i in range(10):\n",
    "    print(f'\\n\\nCluster {i}:')\n",
    "    print(articles_df[articles_df.cluster == i].category.value_counts())  "
   ]
  },
  {
   "cell_type": "code",
   "execution_count": 14,
   "metadata": {},
   "outputs": [],
   "source": [
    "# train test split\n",
    "x_train, x_test, y_train, y_test = train_test_split(\n",
    "    df_x, df.cluster, test_size=0.2, random_state=42\n",
    ")\n"
   ]
  },
  {
   "cell_type": "code",
   "execution_count": 36,
   "metadata": {},
   "outputs": [
    {
     "data": {
      "text/plain": [
       "0.5934065934065934"
      ]
     },
     "execution_count": 36,
     "metadata": {},
     "output_type": "execute_result"
    }
   ],
   "source": [
    "knn = KNeighborsClassifier(n_neighbors=43, weights='distance')\n",
    "knn.fit(x_train, y_train)\n",
    "knn.score(x_test, y_test)"
   ]
  },
  {
   "cell_type": "code",
   "execution_count": 23,
   "metadata": {},
   "outputs": [
    {
     "data": {
      "text/plain": [
       "0.3626373626373626"
      ]
     },
     "execution_count": 23,
     "metadata": {},
     "output_type": "execute_result"
    }
   ],
   "source": [
    "sv_classifier = SVC(\n",
    "    C=1.0,\n",
    "    kernel='linear',\n",
    "    decision_function_shape='ovr',\n",
    "    random_state=42   \n",
    ")\n",
    "sv_classifier.fit(x_train, y_train)\n",
    "sv_classifier.score(x_test, y_test)"
   ]
  },
  {
   "cell_type": "code",
   "execution_count": 26,
   "metadata": {},
   "outputs": [
    {
     "data": {
      "text/plain": [
       "0.3626373626373626"
      ]
     },
     "execution_count": 26,
     "metadata": {},
     "output_type": "execute_result"
    }
   ],
   "source": [
    "rfc = RandomForestClassifier(\n",
    "    n_estimators=10,\n",
    "    max_depth=None,\n",
    "    max_leaf_nodes=None    \n",
    ")\n",
    "rfc.fit(x_train, y_train)\n",
    "rfc.score(x_test, y_test)"
   ]
  },
  {
   "cell_type": "code",
   "execution_count": 28,
   "metadata": {},
   "outputs": [
    {
     "data": {
      "text/plain": [
       "0.17582417582417584"
      ]
     },
     "execution_count": 28,
     "metadata": {},
     "output_type": "execute_result"
    }
   ],
   "source": [
    "ada = AdaBoostClassifier()\n",
    "ada.fit(x_train, y_train)\n",
    "ada.score(x_test, y_test)"
   ]
  }
 ],
 "metadata": {
  "kernelspec": {
   "display_name": "Python 3",
   "language": "python",
   "name": "python3"
  },
  "language_info": {
   "codemirror_mode": {
    "name": "ipython",
    "version": 3
   },
   "file_extension": ".py",
   "mimetype": "text/x-python",
   "name": "python",
   "nbconvert_exporter": "python",
   "pygments_lexer": "ipython3",
   "version": "3.6.5"
  }
 },
 "nbformat": 4,
 "nbformat_minor": 1
}
